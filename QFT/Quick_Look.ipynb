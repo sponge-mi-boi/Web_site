{
 "cells": [
  {
   "cell_type": "markdown",
   "id": "47c91ff2-6d0c-4f00-9ff4-a52515b64e32",
   "metadata": {},
   "source": [
    "# Quick Look at the Anti-Unitary Nature of the Time Reversal Operator \n",
    "\n",
    "Let us take a quick look at the Schrodinger equation: i $\\frac{d}{dt}$\n",
    "|t >= H|t >. Rewriting it $\\frac{d}{dt}$ |t >= −iH|t >. Solving, |t >= $e^{−iHt}$|0 > where |0 > describes the\n",
    "state of the system at t = 0. Essentially, then, the equation just describes the\n",
    "fact that a system evolves according to its Hamiltonian as time is treated as\n",
    "an independent variable. This is not much actually different from any generic\n",
    "classical description of the system, but rather the mathematical language used\n",
    "to describe the system as changed from just classical equations to operators and\n",
    "states. This is actually why canonical quantization, the replacement of classical\n",
    "Poisson brackets with commutators, and the replacement of observable quantities with their corresponding operators, ”works” despite not necessarily being\n",
    "mathematically rigorous. One is just describing the system in a different way\n",
    "and, at the right unit scales, the quantum system behaves almost exactly classically. In fact, this is why it makes sense to take the solution to the Schrodinger\n",
    "equation as the quantum action and minimize it to obtain the resulting equations of motion for the system. This is what QFT is all about and perturbation\n",
    "theory is used since most systems do not have an exact solution. Then, any system can be described in a multitude of bases, the two main ones being the\n",
    "position basis |x > and the momentum basis |k >. A representation of a system\n",
    "in a given basis means that all the operators in the system and the state of\n",
    "the system are written in terms of this new basis.This is done easily using the\n",
    "corresponding completeness relations, $\\int dx$|x >< x|, and $\\int dk$|k >< k|, where x\n",
    "and k can both of course range from -infinity to infinity. Then, |t > which is the\n",
    "fundamental basis in the sense that a system is defined of course to evolve in\n",
    "time can be described in terms of either one. For example, < x|ϕ|t >= ϕ(x, t),\n",
    "which is essentially how much of the given x is on the given t, meaning where\n",
    "exactly is the particle at that given time. This is given the interpretation of a\n",
    "wavefunction which is used to describe the position of the\n",
    "R particle in spacetime.\n",
    "Now, x and k have a relationship defined by |x >= $\\int dk$|k >< k|x >. Since\n",
    "when one usually describes functions in space in terms of functions in momenta,\n",
    "one uses Fourier transforms one takes by definition < k|x >= $e^{ikx}$ . This is\n",
    "made even more clear when one looks at the orthogonality\n",
    "relations for x and\n",
    "k, where specifically < x′ |x >= δ(x′ − x) →< x′ ( $\\int dk$|k >< k|)x >= $\\int dk$ <x′ |k >< k|x >= δ(x′ − x) → $\\int dk$2π$e^{ik(x−x' )}$ . By redefining to put the 2π in\n",
    "the denominator in whatever way one prefers just as for regular Fourier transforms, one can obtain the above relationship. Then, looking at the definition\n",
    "of the time reversal operator, one can see why it must be anti-unitary. We\n",
    "want an operator such that T |t >= −|t >, but it must also commute with the\n",
    "Hamiltonian so that we can observe the effect of time reversal or at least give it\n",
    "some measurable meaning, $[H, T ] = 0$. Then, applying to the Schrodinger equation ,one gets T (−i($\\frac{d}{dt}$)|t >= T (H|t >) → −iT ($\\frac{d}{dt}$)|t >= H(T |t >). Now,\n",
    "T ($\\frac{d}{dt}$) = −$\\frac{d}{dt}$T since it would be applied only on eigenstates of time, which\n",
    "do not depend on time explicitly, since all of them are orthogonal. Then, if we\n",
    "want T|t > to satisfy the Schrodinger equation as well and to be a solution, and\n",
    "furthermore to have the equations of motion be invariant under time reversal,\n",
    "one gets −i($\\frac{d}{dt}$)T |t >= −HT |t > which is not valid so then we must define\n",
    "−iT = T i, which then leads to the right equation of motion.\n",
    "\n",
    "\n",
    "\n",
    "\n"
   ]
  },
  {
   "cell_type": "markdown",
   "id": "ed9275f0-5707-40ea-8067-90791ecb52b9",
   "metadata": {},
   "source": []
  }
 ],
 "metadata": {
  "kernelspec": {
   "display_name": "Python 3 (ipykernel)",
   "language": "python",
   "name": "python3"
  },
  "language_info": {
   "codemirror_mode": {
    "name": "ipython",
    "version": 3
   },
   "file_extension": ".py",
   "mimetype": "text/x-python",
   "name": "python",
   "nbconvert_exporter": "python",
   "pygments_lexer": "ipython3",
   "version": "3.13.3"
  }
 },
 "nbformat": 4,
 "nbformat_minor": 5
}
